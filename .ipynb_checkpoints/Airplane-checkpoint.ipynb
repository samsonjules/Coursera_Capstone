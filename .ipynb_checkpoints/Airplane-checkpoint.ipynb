{
 "cells": [
  {
   "cell_type": "code",
   "execution_count": 137,
   "metadata": {},
   "outputs": [],
   "source": [
    "# Import the required packages\n",
    "from selenium import webdriver \n",
    "from webdriver_manager.chrome import ChromeDriverManager\n",
    "from bs4 import BeautifulSoup\n",
    "import time\n",
    "\n",
    "from selenium.webdriver.support import expected_conditions as EC\n",
    "from selenium.webdriver.common.by import By\n",
    "from selenium.webdriver.support.ui import WebDriverWait as wait\n",
    "from selenium.webdriver.common.action_chains import ActionChains\n",
    "\n",
    "from selenium.common.exceptions import NoSuchElementException\n",
    "import requests\n",
    "import pandas as pd\n"
   ]
  },
  {
   "cell_type": "code",
   "execution_count": null,
   "metadata": {},
   "outputs": [],
   "source": []
  },
  {
   "cell_type": "code",
   "execution_count": 138,
   "metadata": {},
   "outputs": [
    {
     "name": "stderr",
     "output_type": "stream",
     "text": [
      "[WDM] - Current google-chrome version is 84.0.4147\n",
      "[WDM] - Get LATEST driver version for 84.0.4147\n",
      "[WDM] - Driver [C:\\Users\\ING Shito3\\.wdm\\drivers\\chromedriver\\win32\\84.0.4147.30\\chromedriver.exe] found in cache\n"
     ]
    },
    {
     "name": "stdout",
     "output_type": "stream",
     "text": [
      " \n"
     ]
    }
   ],
   "source": [
    "browser = webdriver.Chrome(ChromeDriverManager().install())"
   ]
  },
  {
   "cell_type": "code",
   "execution_count": null,
   "metadata": {},
   "outputs": [],
   "source": []
  },
  {
   "cell_type": "code",
   "execution_count": 184,
   "metadata": {},
   "outputs": [
    {
     "data": {
      "text/html": [
       "<div>\n",
       "<style scoped>\n",
       "    .dataframe tbody tr th:only-of-type {\n",
       "        vertical-align: middle;\n",
       "    }\n",
       "\n",
       "    .dataframe tbody tr th {\n",
       "        vertical-align: top;\n",
       "    }\n",
       "\n",
       "    .dataframe thead th {\n",
       "        text-align: right;\n",
       "    }\n",
       "</style>\n",
       "<table border=\"1\" class=\"dataframe\">\n",
       "  <thead>\n",
       "    <tr style=\"text-align: right;\">\n",
       "      <th></th>\n",
       "      <th>Date / Statut</th>\n",
       "      <th>Vol</th>\n",
       "      <th>De</th>\n",
       "      <th>Arrivée Planifiée</th>\n",
       "      <th>Départ</th>\n",
       "      <th>Arrivé</th>\n",
       "      <th>Durée</th>\n",
       "      <th>Unnamed: 7</th>\n",
       "    </tr>\n",
       "  </thead>\n",
       "  <tbody>\n",
       "    <tr>\n",
       "      <th>0</th>\n",
       "      <td>lun, 18. sept 2017 10:35 EDT A Atterri</td>\n",
       "      <td>S613 Flag of Haiti Sunrise Airways (S6 / KSZ)</td>\n",
       "      <td>Flag of Haiti Cap-Haitien (CAP / MTCH)</td>\n",
       "      <td>10:35 EDT</td>\n",
       "      <td>10:00 EDT à temps</td>\n",
       "      <td>10:35 EDT à temps</td>\n",
       "      <td>35m</td>\n",
       "      <td>NaN</td>\n",
       "    </tr>\n",
       "    <tr>\n",
       "      <th>1</th>\n",
       "      <td>lun, 18. sept 2017 13:30 EDT A Atterri</td>\n",
       "      <td>S615 Flag of Haiti Sunrise Airways (S6 / KSZ)</td>\n",
       "      <td>Flag of Haiti Cap-Haitien (CAP / MTCH)</td>\n",
       "      <td>13:30 EDT</td>\n",
       "      <td>13:00 EDT à temps</td>\n",
       "      <td>13:30 EDT à temps</td>\n",
       "      <td>30m</td>\n",
       "      <td>NaN</td>\n",
       "    </tr>\n",
       "    <tr>\n",
       "      <th>2</th>\n",
       "      <td>lun, 18. sept 2017 14:35 EDT A Atterri</td>\n",
       "      <td>DL685 Delta Air Lines (DL / DAL)</td>\n",
       "      <td>Atlanta (ATL / KATL)</td>\n",
       "      <td>14:35 EDT</td>\n",
       "      <td>11:30 EDT à temps</td>\n",
       "      <td>14:35 EDT planifié</td>\n",
       "      <td>3h 5m</td>\n",
       "      <td>NaN</td>\n",
       "    </tr>\n",
       "    <tr>\n",
       "      <th>3</th>\n",
       "      <td>lun, 18. sept 2017 16:45 EDT A Atterri</td>\n",
       "      <td>S617 Flag of Haiti Sunrise Airways (S6 / KSZ)</td>\n",
       "      <td>Flag of Haiti Cap-Haitien (CAP / MTCH)</td>\n",
       "      <td>16:45 EDT</td>\n",
       "      <td>16:15 EDT à temps</td>\n",
       "      <td>16:45 EDT à temps</td>\n",
       "      <td>30m</td>\n",
       "      <td>NaN</td>\n",
       "    </tr>\n",
       "  </tbody>\n",
       "</table>\n",
       "</div>"
      ],
      "text/plain": [
       "                            Date / Statut  \\\n",
       "0  lun, 18. sept 2017 10:35 EDT A Atterri   \n",
       "1  lun, 18. sept 2017 13:30 EDT A Atterri   \n",
       "2  lun, 18. sept 2017 14:35 EDT A Atterri   \n",
       "3  lun, 18. sept 2017 16:45 EDT A Atterri   \n",
       "\n",
       "                                             Vol  \\\n",
       "0  S613 Flag of Haiti Sunrise Airways (S6 / KSZ)   \n",
       "1  S615 Flag of Haiti Sunrise Airways (S6 / KSZ)   \n",
       "2               DL685 Delta Air Lines (DL / DAL)   \n",
       "3  S617 Flag of Haiti Sunrise Airways (S6 / KSZ)   \n",
       "\n",
       "                                       De Arrivée Planifiée  \\\n",
       "0  Flag of Haiti Cap-Haitien (CAP / MTCH)         10:35 EDT   \n",
       "1  Flag of Haiti Cap-Haitien (CAP / MTCH)         13:30 EDT   \n",
       "2                    Atlanta (ATL / KATL)         14:35 EDT   \n",
       "3  Flag of Haiti Cap-Haitien (CAP / MTCH)         16:45 EDT   \n",
       "\n",
       "              Départ              Arrivé  Durée  Unnamed: 7  \n",
       "0  10:00 EDT à temps   10:35 EDT à temps    35m         NaN  \n",
       "1  13:00 EDT à temps   13:30 EDT à temps    30m         NaN  \n",
       "2  11:30 EDT à temps  14:35 EDT planifié  3h 5m         NaN  \n",
       "3  16:15 EDT à temps   16:45 EDT à temps    30m         NaN  "
      ]
     },
     "execution_count": 184,
     "metadata": {},
     "output_type": "execute_result"
    }
   ],
   "source": [
    "url = r'https://www.flightera.net/fr/airport/Port-au-Prince/MTPP/arrival/17-Sep-2017_00_00'\n",
    "headers = {'User-Agent': 'Mozilla/5.0 (Macintosh; Intel Mac OS X 10_11_5) AppleWebKit/537.36 (KHTML, like Gecko) Chrome/50.0.2661.102 Safari/537.36'}\n",
    "r = requests.get(url, headers = headers)\n",
    "df_list = pd.read_html(r.text) # this parses all the tables in webpages to a list\n",
    "df = df_list[0]\n",
    "df.head()"
   ]
  },
  {
   "cell_type": "code",
   "execution_count": 185,
   "metadata": {},
   "outputs": [
    {
     "data": {
      "text/plain": [
       "(4, 8)"
      ]
     },
     "execution_count": 185,
     "metadata": {},
     "output_type": "execute_result"
    }
   ],
   "source": [
    "df.shape"
   ]
  },
  {
   "cell_type": "code",
   "execution_count": null,
   "metadata": {},
   "outputs": [],
   "source": []
  },
  {
   "cell_type": "code",
   "execution_count": 399,
   "metadata": {},
   "outputs": [
    {
     "data": {
      "text/plain": [
       "(5474, 12)"
      ]
     },
     "execution_count": 399,
     "metadata": {},
     "output_type": "execute_result"
    }
   ],
   "source": [
    "url = r'https://www.flightera.net/fr/airport/Port-au-Prince/MTPP/arrival/2018-02-11%2000_00?'\n",
    "headers = {'User-Agent': 'Mozilla/5.0 (Macintosh; Intel Mac OS X 10_11_5) AppleWebKit/537.36 (KHTML, like Gecko) Chrome/50.0.2661.102 Safari/537.36'}\n",
    "\n",
    "r = requests.get(url, headers = headers)\n",
    "df_list = pd.read_html(r.text) # this parses all the tables in webpages to a list\n",
    "df = pd.concat([df, df_list[0]], ignore_index=True)\n",
    "df.shape\n"
   ]
  },
  {
   "cell_type": "markdown",
   "metadata": {},
   "source": [
    "### "
   ]
  },
  {
   "cell_type": "code",
   "execution_count": null,
   "metadata": {},
   "outputs": [],
   "source": []
  },
  {
   "cell_type": "code",
   "execution_count": 400,
   "metadata": {},
   "outputs": [
    {
     "data": {
      "text/plain": [
       "(5510, 12)"
      ]
     },
     "execution_count": 400,
     "metadata": {},
     "output_type": "execute_result"
    }
   ],
   "source": [
    "url = r'https://www.flightera.net/fr/airport/Port-au-Prince/MTPP/arrival/2018-02-12%2000_00?'\n",
    "headers = {'User-Agent': 'Mozilla/5.0 (Macintosh; Intel Mac OS X 10_11_5) AppleWebKit/537.36 (KHTML, like Gecko) Chrome/50.0.2661.102 Safari/537.36'}\n",
    "\n",
    "r = requests.get(url, headers = headers)\n",
    "df_list = pd.read_html(r.text) # this parses all the tables in webpages to a list\n",
    "df = pd.concat([df, df_list[0]], ignore_index=True)\n",
    "df.shape"
   ]
  },
  {
   "cell_type": "code",
   "execution_count": 401,
   "metadata": {},
   "outputs": [],
   "source": [
    "df.to_csv('airplane2.csv', index = False)"
   ]
  },
  {
   "cell_type": "code",
   "execution_count": null,
   "metadata": {},
   "outputs": [],
   "source": []
  }
 ],
 "metadata": {
  "kernelspec": {
   "display_name": "Python 3",
   "language": "python",
   "name": "python3"
  },
  "language_info": {
   "codemirror_mode": {
    "name": "ipython",
    "version": 3
   },
   "file_extension": ".py",
   "mimetype": "text/x-python",
   "name": "python",
   "nbconvert_exporter": "python",
   "pygments_lexer": "ipython3",
   "version": "3.8.2"
  }
 },
 "nbformat": 4,
 "nbformat_minor": 4
}
